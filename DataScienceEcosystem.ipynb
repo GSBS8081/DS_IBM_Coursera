{
 "cells": [
  {
   "cell_type": "markdown",
   "id": "9c756fd7-5744-4f8f-9ed1-412028565852",
   "metadata": {
    "tags": []
   },
   "source": [
    "<h1>Data Science Tools and Ecosystem</h1>\n"
   ]
  },
  {
   "cell_type": "markdown",
   "id": "1a23da6d-7e6d-4c45-8b61-bf08672f4349",
   "metadata": {
    "tags": []
   },
   "source": [
    "<p>In this notebook, Data Science Tools and Ecosystem are summarized.</p>"
   ]
  },
  {
   "cell_type": "markdown",
   "id": "d67847b5-fd25-49c6-a482-a8249bf74e7d",
   "metadata": {},
   "source": [
    "<b>Objectives:</b>\n",
    "<ul>\n",
    "    <li>Some of the popular languages that Data Scientists</li>\n",
    "    <li>Some of the commonly used libraries used by Data Scientists</li>\n",
    "    <li>Jupiter Notebooks and JupiterLab</li>\n",
    "</ul>\n",
    "<h2>Author</h2>\n",
    "<p>Gustavo S B Silva</p>"
   ]
  },
  {
   "cell_type": "markdown",
   "id": "6909a937-d377-4159-afbb-2a90211a81f6",
   "metadata": {},
   "source": [
    "<p>Some of the popular languages that Data Scientists use are:</p>\n",
    "<ol>\n",
    "    <li>Python</li>\n",
    "    <li>R</li>\n",
    "    <li>Julia</li>\n",
    "</ol>\n"
   ]
  },
  {
   "cell_type": "markdown",
   "id": "c6292850-ec65-465b-bd36-f91094a2853d",
   "metadata": {},
   "source": [
    "<p>Some of the commonly used libraries used by Data Scientists include:</p>\n",
    "<ol>\n",
    "    <li>NumPy</li>\n",
    "    <li>Pandas</li>\n",
    "    <li>SciPy</li>\n",
    "</ol>"
   ]
  },
  {
   "cell_type": "markdown",
   "id": "d5579045-dd27-4d95-ab61-a64488c72ca9",
   "metadata": {},
   "source": [
    "<table>\n",
    "    <tr>\n",
    "        <th>Data Science Tools</th>\n",
    "    </tr>\n",
    "    <tr>\n",
    "        <td>Git</td>\n",
    "    </tr>\n",
    "    <tr>\n",
    "        <td>VS Code</td>\n",
    "    </tr>\n",
    "    <tr>\n",
    "        <td>GitLab</td>    \n",
    "    </tr>\n",
    "</table>"
   ]
  },
  {
   "cell_type": "markdown",
   "id": "af05b547-c72c-4032-8527-201862743789",
   "metadata": {},
   "source": [
    "<h3>Below are a few examples of evaluating arithmetic expressions in Python</h3>"
   ]
  },
  {
   "cell_type": "code",
   "execution_count": 2,
   "id": "d20a7177-3274-4048-be0e-9baa5f4449f4",
   "metadata": {
    "tags": []
   },
   "outputs": [
    {
     "name": "stdout",
     "output_type": "stream",
     "text": [
      "17\n"
     ]
    }
   ],
   "source": [
    "# This a simple arithmetic expression to mutiply then add integers\n",
    "x = (3*4)+5\n",
    "print(x)"
   ]
  },
  {
   "cell_type": "code",
   "execution_count": 5,
   "id": "ac7f6b90-3ad1-4ee7-8b83-d69034bccfd5",
   "metadata": {
    "tags": []
   },
   "outputs": [
    {
     "name": "stdout",
     "output_type": "stream",
     "text": [
      "3.33\n"
     ]
    }
   ],
   "source": [
    "# This will convert 200 minutes to hours by diving by 60\n",
    "min = 200\n",
    "h = min/60\n",
    "print(round(h,2))"
   ]
  },
  {
   "cell_type": "markdown",
   "id": "41fe39ec-cbab-4c20-b48d-ec1e8799ffe7",
   "metadata": {},
   "source": []
  }
 ],
 "metadata": {
  "kernelspec": {
   "display_name": "Python",
   "language": "python",
   "name": "conda-env-python-py"
  },
  "language_info": {
   "codemirror_mode": {
    "name": "ipython",
    "version": 3
   },
   "file_extension": ".py",
   "mimetype": "text/x-python",
   "name": "python",
   "nbconvert_exporter": "python",
   "pygments_lexer": "ipython3",
   "version": "3.7.12"
  }
 },
 "nbformat": 4,
 "nbformat_minor": 5
}
